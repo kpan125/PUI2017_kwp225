{
 "cells": [
  {
   "cell_type": "markdown",
   "metadata": {},
   "source": [
    "# SQL CARTO QUERY FUNCTION\n",
    "# written for PUI2016_Python2"
   ]
  },
  {
   "cell_type": "markdown",
   "metadata": {},
   "source": [
    "##### This notebook is set up to link as a default to the fb55 account.  To turn in the homework use the same account you used in the lab (hvt201)  and query the database that you were querying in class (citibike_feb_2015)"
   ]
  },
  {
   "cell_type": "code",
   "execution_count": 2,
   "metadata": {},
   "outputs": [
    {
     "ename": "SyntaxError",
     "evalue": "invalid syntax (<ipython-input-2-a06cf3a40a9b>, line 23)",
     "output_type": "error",
     "traceback": [
      "\u001b[0;36m  File \u001b[0;32m\"<ipython-input-2-a06cf3a40a9b>\"\u001b[0;36m, line \u001b[0;32m23\u001b[0m\n\u001b[0;31m    except urllib2.HTTPError, e:\u001b[0m\n\u001b[0m                            ^\u001b[0m\n\u001b[0;31mSyntaxError\u001b[0m\u001b[0;31m:\u001b[0m invalid syntax\n"
     ]
    }
   ],
   "source": [
    "SQL_SOURCE = 'https://kwp225.carto.com/api/v2/sql?q='\n",
    "\n",
    "import urllib2\n",
    "import urllib\n",
    "import StringIO\n",
    "import ast\n",
    "import pandas as pd\n",
    "\n",
    "def queryCartoDB(query, format='CSV', source=SQL_SOURCE):\n",
    "    '''queries carto datasets from a given carto account\n",
    "    Arguments: \n",
    "    query - string: a valid sql query string\n",
    "    format - outlut format  OPTIONAL (default CSV)\n",
    "    source - a valid sql api endpoint OPTIONAL (default carto fb55 account)\n",
    "    Returns:\n",
    "    the return of the sql query AS A STRING\n",
    "    NOTES:\n",
    "    designed for the carto API, tested only with CSV return format'''\n",
    "    \n",
    "    data = urllib.urlencode({'format': format, 'q': query})\n",
    "    try:\n",
    "        response = urllib2.urlopen(source, data)\n",
    "    except urllib2.HTTPError, e:\n",
    "        raise ValueError('\\n'.join(ast.literal_eval(e.readline())['error']))\n",
    "    except Exception:\n",
    "        raise\n",
    "    return response.read()"
   ]
  },
  {
   "cell_type": "markdown",
   "metadata": {},
   "source": [
    "### Task 1 — Familiarize with SQL Clauses\n",
    "\n",
    "• Sort data by start_station_id, tripduration\n",
    "- Only checking trips with duration <= 3 hours\n",
    "\n",
    "• Only show the top/last 10 records (aka head and tail in SQL)\n",
    "\n",
    "• List all unique start_station_id values\n",
    "\n",
    "• Aggregation functions:\n",
    "- Count the number of trips (aka wc -l in SQL)\n",
    "- Find the average/min/max trip duration"
   ]
  },
  {
   "cell_type": "code",
   "execution_count": 3,
   "metadata": {},
   "outputs": [
    {
     "ename": "NameError",
     "evalue": "name 'pd' is not defined",
     "output_type": "error",
     "traceback": [
      "\u001b[0;31m---------------------------------------------------------------------------\u001b[0m",
      "\u001b[0;31mNameError\u001b[0m                                 Traceback (most recent call last)",
      "\u001b[0;32m<ipython-input-3-64d9a9ec1195>\u001b[0m in \u001b[0;36m<module>\u001b[0;34m()\u001b[0m\n\u001b[1;32m      7\u001b[0m '''\n\u001b[1;32m      8\u001b[0m \u001b[0;34m\u001b[0m\u001b[0m\n\u001b[0;32m----> 9\u001b[0;31m \u001b[0mpd\u001b[0m\u001b[0;34m.\u001b[0m\u001b[0mread_csv\u001b[0m\u001b[0;34m(\u001b[0m\u001b[0mStringIO\u001b[0m\u001b[0;34m.\u001b[0m\u001b[0mStringIO\u001b[0m\u001b[0;34m(\u001b[0m\u001b[0mqueryCartoDB\u001b[0m\u001b[0;34m(\u001b[0m\u001b[0mtask1_1\u001b[0m\u001b[0;34m)\u001b[0m\u001b[0;34m)\u001b[0m\u001b[0;34m,\u001b[0m \u001b[0msep\u001b[0m\u001b[0;34m=\u001b[0m\u001b[0;34m','\u001b[0m\u001b[0;34m)\u001b[0m\u001b[0;34m\u001b[0m\u001b[0m\n\u001b[0m",
      "\u001b[0;31mNameError\u001b[0m: name 'pd' is not defined"
     ]
    }
   ],
   "source": [
    "# Sort data by start_station_id,tripduration , only checking trips with duration <= 3 hours\n",
    "task1_1 = '''\n",
    "SELECT *\n",
    "FROM citibike\n",
    "WHERE tripduration <= 10800\n",
    "ORDER BY start_station_id, tripduration\n",
    "'''\n",
    "\n",
    "pd.read_csv(StringIO.StringIO(queryCartoDB(task1_1)), sep=',')"
   ]
  },
  {
   "cell_type": "code",
   "execution_count": null,
   "metadata": {},
   "outputs": [],
   "source": [
    "# Only show the top 10 records\n",
    "task1_2a = '''\n",
    "SELECT *\n",
    "FROM citibike\n",
    "WHERE tripduration <= 10800\n",
    "ORDER BY tripduration \n",
    "LIMIT 10\n",
    "'''\n",
    "\n",
    "pd.read_csv(StringIO.StringIO(queryCartoDB(task1_2a)), sep=',')"
   ]
  },
  {
   "cell_type": "code",
   "execution_count": null,
   "metadata": {
    "scrolled": false
   },
   "outputs": [],
   "source": [
    "# Only show the last 10 records\n",
    "task1_2b = '''\n",
    "SELECT *\n",
    "FROM citibike\n",
    "WHERE tripduration <= 10800\n",
    "ORDER BY tripduration DESC\n",
    "LIMIT 10\n",
    "'''\n",
    "\n",
    "pd.read_csv(StringIO.StringIO(queryCartoDB(task1_2b)), sep=',')"
   ]
  },
  {
   "cell_type": "code",
   "execution_count": null,
   "metadata": {},
   "outputs": [],
   "source": [
    "# List all unique start_station_id values\n",
    "task1_3 = '''\n",
    "SELECT DISTINCT start_station_id\n",
    "FROM citibike\n",
    "'''\n",
    "\n",
    "pd.read_csv(StringIO.StringIO(queryCartoDB(task1_3)), sep=',')"
   ]
  },
  {
   "cell_type": "code",
   "execution_count": null,
   "metadata": {},
   "outputs": [],
   "source": [
    "# Count the number of trips \n",
    "task1_4a = '''\n",
    "SELECT COUNT(*)\n",
    "FROM citibike\n",
    "'''\n",
    "\n",
    "pd.read_csv(StringIO.StringIO(queryCartoDB(task1_4a)), sep=',')"
   ]
  },
  {
   "cell_type": "code",
   "execution_count": null,
   "metadata": {},
   "outputs": [],
   "source": [
    "# Find the average/min/max trip duration \n",
    "task1_4b = '''\n",
    "SELECT avg(tripduration),\n",
    "       min(tripduration),\n",
    "       max(tripduration)\n",
    "FROM citibike\n",
    "'''\n",
    "\n",
    "pd.read_csv(StringIO.StringIO(queryCartoDB(task1_4b)), sep=',')"
   ]
  },
  {
   "cell_type": "markdown",
   "metadata": {},
   "source": [
    "### Task 2 — Working with date/time\n",
    "\n",
    "• Selecting trips started on Feb-02-2015 only\n",
    "\n",
    "• Selecting trips started on the weekends\n",
    "- What are average trip duration during weekends?\n",
    "\n",
    "• Can we do the same for weekday?\n"
   ]
  },
  {
   "cell_type": "code",
   "execution_count": null,
   "metadata": {},
   "outputs": [],
   "source": [
    "# Selecting trips started on Feb-02-2015 only\n",
    "task2_1 = '''\n",
    "SELECT *\n",
    "FROM citibike\n",
    "WHERE starttime >= '2015-02-02 00:00'\n",
    "      AND starttime < '2015-02-03 00:00'\n",
    "'''\n",
    "\n",
    "pd.read_csv(StringIO.StringIO(queryCartoDB(task2_1)), sep=',')"
   ]
  },
  {
   "cell_type": "code",
   "execution_count": null,
   "metadata": {},
   "outputs": [],
   "source": [
    "# Selecting trips started on the weekends\n",
    "# What are average trip duration during weekends?\n",
    "task2_2a = '''\n",
    "SELECT *\n",
    "FROM citibike\n",
    "WHERE extract(DOW FROM starttime) IN (0,6)\n",
    "'''\n",
    "\n",
    "pd.read_csv(StringIO.StringIO(queryCartoDB(task2_2a)), sep=',')"
   ]
  },
  {
   "cell_type": "code",
   "execution_count": null,
   "metadata": {},
   "outputs": [],
   "source": [
    "# What are average trip duration during weekends?\n",
    "task2_2b = '''\n",
    "SELECT avg(tripduration)\n",
    "FROM citibike\n",
    "WHERE extract(DOW FROM starttime) IN (0,6)\n",
    "'''\n",
    "\n",
    "pd.read_csv(StringIO.StringIO(queryCartoDB(task2_2b)), sep=',')"
   ]
  },
  {
   "cell_type": "code",
   "execution_count": null,
   "metadata": {},
   "outputs": [],
   "source": [
    "# Can we do the same for weekday?\n",
    "# Selecting trips started on the weekdays\n",
    "task2_3a = '''\n",
    "SELECT *\n",
    "FROM citibike\n",
    "WHERE extract(DOW FROM starttime) NOT IN (0,6)\n",
    "'''\n",
    "\n",
    "pd.read_csv(StringIO.StringIO(queryCartoDB(task2_3a)), sep=',')"
   ]
  },
  {
   "cell_type": "code",
   "execution_count": null,
   "metadata": {},
   "outputs": [],
   "source": [
    "# Can we do the same for weekday?\n",
    "# What are average trip duration during weekdays?\n",
    "task2_3b = '''\n",
    "SELECT avg(tripduration)\n",
    "FROM citibike\n",
    "WHERE extract(DOW FROM starttime) NOT IN (0,6)\n",
    "'''\n",
    "\n",
    "pd.read_csv(StringIO.StringIO(queryCartoDB(task2_3b)), sep=',')"
   ]
  },
  {
   "cell_type": "markdown",
   "metadata": {},
   "source": [
    "### Task 3 — Working with Space\n",
    "• Showing the list of start station locations\n",
    "- Using GROUP BY\n",
    "\n",
    "• Showing the number of trips started per station\n",
    "\n",
    "• … but only for stations within 500m of Time Square!\n",
    "- The coordinates of Time Square is (40.7577,-73.9857)"
   ]
  },
  {
   "cell_type": "code",
   "execution_count": null,
   "metadata": {},
   "outputs": [],
   "source": [
    "# Showing the list of start station locations using GROUP BY\n",
    "task3_1 = '''\n",
    "SELECT start_station_latitude, start_station_longitude\n",
    "FROM citibike\n",
    "GROUP BY start_station_latitude, start_station_longitude\n",
    "'''\n",
    "\n",
    "pd.read_csv(StringIO.StringIO(queryCartoDB(task3_1)), sep=',')"
   ]
  },
  {
   "cell_type": "code",
   "execution_count": null,
   "metadata": {},
   "outputs": [],
   "source": [
    "# Showing the number of trips started per station\n",
    "task3_2 = '''\n",
    "SELECT start_station_id, COUNT(*) as numTrips\n",
    "FROM citibike\n",
    "GROUP BY start_station_id, start_station_latitude, start_station_longitude\n",
    "'''\n",
    "\n",
    "pd.read_csv(StringIO.StringIO(queryCartoDB(task3_2)), sep=',')"
   ]
  },
  {
   "cell_type": "code",
   "execution_count": null,
   "metadata": {},
   "outputs": [],
   "source": [
    "# Showing the number of trips started per station but only for stations within 500m of Time Square!\n",
    "# The coordinates of Time Square is (40.7577,-73.9857)\n",
    "task3_3 = '''\n",
    "SELECT start_station_id, \n",
    "       start_station_name, \n",
    "       COUNT(*) as numTrips\n",
    "\n",
    "FROM citibike\n",
    "\n",
    "WHERE ST_DWithin(CDB_LatLng(start_station_latitude,\n",
    "                            start_station_longitude)::geography,\n",
    "                 CDB_LatLng(40.7577, -73.9857)::geography,\n",
    "                 500)\n",
    "                            \n",
    "GROUP BY start_station_id, start_station_name, start_station_latitude, start_station_longitude\n",
    "'''\n",
    "\n",
    "pd.read_csv(StringIO.StringIO(queryCartoDB(task3_3)), sep=',')"
   ]
  },
  {
   "cell_type": "markdown",
   "metadata": {},
   "source": [
    "### Task 4 — Putting it all together\n",
    "• Find the station that had the longest average trip duration during\n",
    "weekends and within 500m of TimeSquare!\n",
    "\n",
    "• Extra: create lines for trips started from stations within 500m of Times\n",
    "Squares and lasted less than 2 hours. The number of trips per each\n",
    "pair of stations are output as attributes of these lines. "
   ]
  },
  {
   "cell_type": "code",
   "execution_count": null,
   "metadata": {},
   "outputs": [],
   "source": [
    "# Find the station that had the longest average trip duration during weekends and within 500m of TimeSquare!\n",
    "task4_1 = '''\n",
    "SELECT start_station_id, \n",
    "       start_station_name, \n",
    "       avg(tripduration) as avgTripTime\n",
    "\n",
    "FROM citibike\n",
    "\n",
    "WHERE ST_DWithin(CDB_LatLng(start_station_latitude,\n",
    "                            start_station_longitude)::geography,\n",
    "                 CDB_LatLng(40.7577, -73.9857)::geography,\n",
    "                 500) \n",
    "      AND extract(DOW FROM starttime) IN (0,6)\n",
    "                 \n",
    "GROUP BY start_station_id, start_station_name, start_station_latitude, start_station_longitude\n",
    "\n",
    "ORDER BY avgTripTime DESC\n",
    "\n",
    "LIMIT 1\n",
    "\n",
    "'''\n",
    "\n",
    "pd.read_csv(StringIO.StringIO(queryCartoDB(task4_1)), sep=',')"
   ]
  },
  {
   "cell_type": "code",
   "execution_count": null,
   "metadata": {},
   "outputs": [],
   "source": [
    "# Extra: create lines for trips started from stations within 500m of Times Squares and lasted less than 2 hours. \n",
    "# The number of trips per each pair of stations are output as attributes of these lines.\n",
    "task4_2 = '''\n",
    "SELECT ST_Makeline(\n",
    "        CDB_TransformToWebmercator(\n",
    "            CDB_LatLng(start_station_latitude, start_station_longitude)),\n",
    "        CDB_TransformToWebmercator(\n",
    "            CDB_LatLng(end_station_latitude, end_station_longitude))\n",
    "        ) as the_geom_webmercator,\n",
    "        MIN(cartodb_id) as cartodb_id\n",
    "        \n",
    "FROM citibike\n",
    "\n",
    "WHERE ST_DWithin(CDB_LatLng(start_station_latitude,\n",
    "                            start_station_longitude)::geography,\n",
    "                 CDB_LatLng(40.7577, -73.9857)::geography,\n",
    "                 500)\n",
    "      AND tripduration <=7200\n",
    "                            \n",
    "GROUP BY start_station_id, start_station_latitude, start_station_longitude,\n",
    "         end_station_id, end_station_latitude, end_station_longitude\n",
    "         \n",
    "ORDER BY start_station_id\n",
    "'''\n",
    "\n",
    "pd.read_csv(StringIO.StringIO(queryCartoDB(task4_2)), sep=',')"
   ]
  },
  {
   "cell_type": "markdown",
   "metadata": {},
   "source": [
    "### Link to Carto Map of Task 4.2\n",
    "\n",
    "\n",
    "\n",
    "https://kwp225.carto.com/builder/ebf39417-0af9-44a6-b052-fe4949e56e3e/embed"
   ]
  },
  {
   "cell_type": "markdown",
   "metadata": {},
   "source": [
    "## ASH -100. Extra Ctedit 100"
   ]
  },
  {
   "cell_type": "code",
   "execution_count": null,
   "metadata": {},
   "outputs": [],
   "source": []
  }
 ],
 "metadata": {
  "anaconda-cloud": {},
  "kernelspec": {
   "display_name": "PUI2016_Python3",
   "language": "python",
   "name": "pui2016_python3"
  },
  "language_info": {
   "codemirror_mode": {
    "name": "ipython",
    "version": 3
   },
   "file_extension": ".py",
   "mimetype": "text/x-python",
   "name": "python",
   "nbconvert_exporter": "python",
   "pygments_lexer": "ipython3",
   "version": "3.5.4"
  }
 },
 "nbformat": 4,
 "nbformat_minor": 1
}
